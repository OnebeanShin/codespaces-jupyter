{
 "cells": [
  {
   "cell_type": "code",
   "execution_count": 5,
   "metadata": {},
   "outputs": [
    {
     "name": "stdout",
     "output_type": "stream",
     "text": [
      "tensor([39.9922], grad_fn=<AddBackward0>)\n"
     ]
    }
   ],
   "source": [
    "import torch\n",
    "x_train = torch.Tensor([[1,1], [2,2], [3,3]])\n",
    "y_train = torch.Tensor([[10], [20], [30]])\n",
    "W = torch.randn([2,1], requires_grad =True)\n",
    "b = torch.randn([1], requires_grad =True)\n",
    "optimizer = torch.optim.SGD([W,b], lr=0.01)\n",
    "\n",
    "def H(x):\n",
    "    return torch.matmul(x,W)+b\n",
    "\n",
    "for step in range(2000):\n",
    "    cost = torch.mean((H(x_train) - y_train) ** 2)\n",
    "    optimizer.zero_grad()\n",
    "    cost.backward()\n",
    "    optimizer.step()\n",
    "\n",
    "x_test = torch.Tensor([4,4])\n",
    "print(H(x_test))\n"
   ]
  }
 ],
 "metadata": {
  "kernelspec": {
   "display_name": "Python 3",
   "language": "python",
   "name": "python3"
  },
  "language_info": {
   "codemirror_mode": {
    "name": "ipython",
    "version": 3
   },
   "file_extension": ".py",
   "mimetype": "text/x-python",
   "name": "python",
   "nbconvert_exporter": "python",
   "pygments_lexer": "ipython3",
   "version": "3.10.13"
  }
 },
 "nbformat": 4,
 "nbformat_minor": 2
}
