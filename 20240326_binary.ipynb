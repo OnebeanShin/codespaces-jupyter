{
 "cells": [
  {
   "cell_type": "code",
   "execution_count": 4,
   "metadata": {},
   "outputs": [
    {
     "name": "stdout",
     "output_type": "stream",
     "text": [
      "tensor([0.6403], grad_fn=<SigmoidBackward0>)\n"
     ]
    }
   ],
   "source": [
    "import torch\n",
    "x_train = torch.Tensor([[1,2], [2,3], [3,4],[4,4],[5,3],[6,2]])\n",
    "y_train = torch.Tensor([[0], [0], [0],[1],[1],[1]])\n",
    "W = torch.randn([2,1], requires_grad =True)\n",
    "b = torch.randn([1], requires_grad =True)\n",
    "optimizer = torch.optim.SGD([W,b], lr=0.01)\n",
    "\n",
    "def H(x):\n",
    "    return torch.sigmoid(torch.matmul(x,W)+b) #sigmoid 적용\n",
    "\n",
    "for step in range(2000):\n",
    "    cost = -1 * torch.mean(y_train*torch.log(H(x_train))+(1-y_train) * torch.log(1-H(x_train)))\n",
    "    optimizer.zero_grad()\n",
    "    cost.backward()\n",
    "    optimizer.step()\n",
    "\n",
    "x_test = torch.Tensor([4,4])\n",
    "print(H(x_test))\n"
   ]
  }
 ],
 "metadata": {
  "kernelspec": {
   "display_name": "Python 3",
   "language": "python",
   "name": "python3"
  },
  "language_info": {
   "codemirror_mode": {
    "name": "ipython",
    "version": 3
   },
   "file_extension": ".py",
   "mimetype": "text/x-python",
   "name": "python",
   "nbconvert_exporter": "python",
   "pygments_lexer": "ipython3",
   "version": "3.10.13"
  }
 },
 "nbformat": 4,
 "nbformat_minor": 2
}
